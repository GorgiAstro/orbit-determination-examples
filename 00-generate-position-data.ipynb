{
 "cells": [
  {
   "cell_type": "markdown",
   "metadata": {},
   "source": [
    "This notebook generates position data with noise for orbit determination purposes, using a Keplerian propagator. "
   ]
  },
  {
   "cell_type": "markdown",
   "metadata": {},
   "source": [
    "Parameters for data generation"
   ]
  },
  {
   "cell_type": "code",
   "execution_count": 1,
   "metadata": {},
   "outputs": [
    {
     "data": {
      "text/plain": [
       "9952.019565792982"
      ]
     },
     "metadata": {},
     "output_type": "display_data"
    }
   ],
   "source": [
    "import numpy as np\n",
    "import datetime\n",
    "orbit_epoch = datetime.datetime(2020, 1, 1)\n",
    "sma = 10000e3  # Semi-major axis in meters\n",
    "ecc = 0.2  # Eccentricity\n",
    "inc = float(np.deg2rad(60.0))  # Inclination in radians\n",
    "raan = 0.0  # Right-ascension of ascending node in radians\n",
    "aop = 0.0  # Argument of perigee in radians\n",
    "ta = 0.0  # Initial true anomaly in radians\n",
    "\n",
    "sigma_position = 100e3  # Noise (in terms of standard deviation of gaussian distribution) of output position data in meters\n",
    "sigma_velocity = 100.0  # Noise of output velocity data in meters per second\n",
    "\n",
    "n_orbits = 1.0  # Number of orbits to generate\n",
    "T = 500.0  # Sample time of output data in seconds\n",
    "\n",
    "orbit_period = 2*np.pi*np.sqrt(sma**3 / 3.98600e14)\n",
    "duration = float(n_orbits*orbit_period)\n",
    "display(duration)"
   ]
  },
  {
   "cell_type": "markdown",
   "metadata": {},
   "source": [
    "Firing up a JVM for Orekit"
   ]
  },
  {
   "cell_type": "code",
   "execution_count": 2,
   "metadata": {},
   "outputs": [
    {
     "data": {
      "text/plain": [
       "<jcc.JCCEnv at 0x7f8472329bb0>"
      ]
     },
     "execution_count": 2,
     "metadata": {},
     "output_type": "execute_result"
    }
   ],
   "source": [
    "import orekit\n",
    "orekit.initVM()"
   ]
  },
  {
   "cell_type": "markdown",
   "metadata": {},
   "source": [
    "Downloading and importing the Orekit data ZIP"
   ]
  },
  {
   "cell_type": "code",
   "execution_count": 3,
   "metadata": {},
   "outputs": [
    {
     "name": "stdout",
     "output_type": "stream",
     "text": [
      "Downloading file from: https://gitlab.orekit.org/orekit/orekit-data/-/archive/master/orekit-data-master.zip\n"
     ]
    }
   ],
   "source": [
    "from orekit.pyhelpers import download_orekit_data_curdir, setup_orekit_curdir\n",
    "download_orekit_data_curdir()\n",
    "setup_orekit_curdir()"
   ]
  },
  {
   "cell_type": "markdown",
   "metadata": {},
   "source": [
    "Setting up models (frames, timescales)"
   ]
  },
  {
   "cell_type": "code",
   "execution_count": 4,
   "metadata": {},
   "outputs": [],
   "source": [
    "from org.orekit.frames import FramesFactory\n",
    "gcrf = FramesFactory.getGCRF()"
   ]
  },
  {
   "cell_type": "markdown",
   "metadata": {},
   "source": [
    "Setting up initial orbit and propagator"
   ]
  },
  {
   "cell_type": "code",
   "execution_count": 5,
   "metadata": {},
   "outputs": [],
   "source": [
    "from org.orekit.orbits import KeplerianOrbit, PositionAngle\n",
    "from orekit.pyhelpers import datetime_to_absolutedate\n",
    "from org.orekit.utils import Constants as orekit_constants\n",
    "orbit = KeplerianOrbit(sma, ecc, inc, aop, raan, ta,\n",
    "                       PositionAngle.TRUE, \n",
    "                       gcrf,\n",
    "                       datetime_to_absolutedate(orbit_epoch),\n",
    "                       orekit_constants.EIGEN5C_EARTH_MU)\n",
    "\n",
    "from org.orekit.propagation.analytical import KeplerianPropagator\n",
    "propagator = KeplerianPropagator(orbit)"
   ]
  },
  {
   "cell_type": "markdown",
   "metadata": {},
   "source": [
    "Orekit can generate measurements for all types of measurements that are used for OD. However for position/velocity, it is easy to retrieve the measurements by hand."
   ]
  },
  {
   "cell_type": "markdown",
   "metadata": {},
   "source": [
    "Propagating, adding noise and saving data to a pandas dataframe."
   ]
  },
  {
   "cell_type": "code",
   "execution_count": 6,
   "metadata": {},
   "outputs": [
    {
     "data": {
      "text/html": [
       "<div>\n",
       "<style scoped>\n",
       "    .dataframe tbody tr th:only-of-type {\n",
       "        vertical-align: middle;\n",
       "    }\n",
       "\n",
       "    .dataframe tbody tr th {\n",
       "        vertical-align: top;\n",
       "    }\n",
       "\n",
       "    .dataframe thead th {\n",
       "        text-align: right;\n",
       "    }\n",
       "</style>\n",
       "<table border=\"1\" class=\"dataframe\">\n",
       "  <thead>\n",
       "    <tr style=\"text-align: right;\">\n",
       "      <th></th>\n",
       "      <th>x</th>\n",
       "      <th>y</th>\n",
       "      <th>z</th>\n",
       "      <th>vx</th>\n",
       "      <th>vy</th>\n",
       "      <th>vz</th>\n",
       "    </tr>\n",
       "  </thead>\n",
       "  <tbody>\n",
       "    <tr>\n",
       "      <th>2020-01-01 00:00:00</th>\n",
       "      <td>8.056982e+06</td>\n",
       "      <td>1.468446e+04</td>\n",
       "      <td>3.100794e+04</td>\n",
       "      <td>-41.522207</td>\n",
       "      <td>3885.734219</td>\n",
       "      <td>6677.381032</td>\n",
       "    </tr>\n",
       "    <tr>\n",
       "      <th>2020-01-01 00:08:20</th>\n",
       "      <td>7.154730e+06</td>\n",
       "      <td>1.852806e+06</td>\n",
       "      <td>3.170712e+06</td>\n",
       "      <td>-2908.078162</td>\n",
       "      <td>3434.859916</td>\n",
       "      <td>6098.294914</td>\n",
       "    </tr>\n",
       "    <tr>\n",
       "      <th>2020-01-01 00:16:40</th>\n",
       "      <td>5.006926e+06</td>\n",
       "      <td>3.606465e+06</td>\n",
       "      <td>5.901557e+06</td>\n",
       "      <td>-5315.241457</td>\n",
       "      <td>2799.273333</td>\n",
       "      <td>4452.587151</td>\n",
       "    </tr>\n",
       "    <tr>\n",
       "      <th>2020-01-01 00:25:00</th>\n",
       "      <td>2.352366e+06</td>\n",
       "      <td>4.434280e+06</td>\n",
       "      <td>7.593867e+06</td>\n",
       "      <td>-6313.109418</td>\n",
       "      <td>1530.104869</td>\n",
       "      <td>2432.364617</td>\n",
       "    </tr>\n",
       "    <tr>\n",
       "      <th>2020-01-01 00:33:20</th>\n",
       "      <td>-1.007620e+06</td>\n",
       "      <td>5.033059e+06</td>\n",
       "      <td>8.323170e+06</td>\n",
       "      <td>-6278.175584</td>\n",
       "      <td>296.658983</td>\n",
       "      <td>754.782685</td>\n",
       "    </tr>\n",
       "    <tr>\n",
       "      <th>2020-01-01 00:41:40</th>\n",
       "      <td>-4.067582e+06</td>\n",
       "      <td>4.962326e+06</td>\n",
       "      <td>8.267137e+06</td>\n",
       "      <td>-5918.025799</td>\n",
       "      <td>-525.722689</td>\n",
       "      <td>-1004.132238</td>\n",
       "    </tr>\n",
       "    <tr>\n",
       "      <th>2020-01-01 00:50:00</th>\n",
       "      <td>-6.908941e+06</td>\n",
       "      <td>4.381691e+06</td>\n",
       "      <td>7.569041e+06</td>\n",
       "      <td>-5101.186402</td>\n",
       "      <td>-1353.391861</td>\n",
       "      <td>-2258.428265</td>\n",
       "    </tr>\n",
       "    <tr>\n",
       "      <th>2020-01-01 00:58:20</th>\n",
       "      <td>-8.900902e+06</td>\n",
       "      <td>3.333955e+06</td>\n",
       "      <td>5.922577e+06</td>\n",
       "      <td>-3865.802334</td>\n",
       "      <td>-1957.304014</td>\n",
       "      <td>-3284.611687</td>\n",
       "    </tr>\n",
       "    <tr>\n",
       "      <th>2020-01-01 01:06:40</th>\n",
       "      <td>-1.072952e+07</td>\n",
       "      <td>2.449153e+06</td>\n",
       "      <td>4.063725e+06</td>\n",
       "      <td>-2690.374787</td>\n",
       "      <td>-2389.261654</td>\n",
       "      <td>-3898.051694</td>\n",
       "    </tr>\n",
       "    <tr>\n",
       "      <th>2020-01-01 01:15:00</th>\n",
       "      <td>-1.170893e+07</td>\n",
       "      <td>1.477098e+06</td>\n",
       "      <td>2.010125e+06</td>\n",
       "      <td>-1299.566595</td>\n",
       "      <td>-2455.605459</td>\n",
       "      <td>-4262.773492</td>\n",
       "    </tr>\n",
       "    <tr>\n",
       "      <th>2020-01-01 01:23:20</th>\n",
       "      <td>-1.207381e+07</td>\n",
       "      <td>-2.286726e+05</td>\n",
       "      <td>-7.278299e+04</td>\n",
       "      <td>71.787359</td>\n",
       "      <td>-2567.253309</td>\n",
       "      <td>-4433.738988</td>\n",
       "    </tr>\n",
       "    <tr>\n",
       "      <th>2020-01-01 01:31:40</th>\n",
       "      <td>-1.151708e+07</td>\n",
       "      <td>-1.445310e+06</td>\n",
       "      <td>-2.439107e+06</td>\n",
       "      <td>1461.300633</td>\n",
       "      <td>-2516.046662</td>\n",
       "      <td>-4368.852580</td>\n",
       "    </tr>\n",
       "    <tr>\n",
       "      <th>2020-01-01 01:40:00</th>\n",
       "      <td>-1.046759e+07</td>\n",
       "      <td>-2.608557e+06</td>\n",
       "      <td>-4.459756e+06</td>\n",
       "      <td>2907.517698</td>\n",
       "      <td>-2242.412883</td>\n",
       "      <td>-3912.112590</td>\n",
       "    </tr>\n",
       "    <tr>\n",
       "      <th>2020-01-01 01:48:20</th>\n",
       "      <td>-8.869487e+06</td>\n",
       "      <td>-3.508512e+06</td>\n",
       "      <td>-6.282518e+06</td>\n",
       "      <td>4138.495196</td>\n",
       "      <td>-1696.232518</td>\n",
       "      <td>-3211.194173</td>\n",
       "    </tr>\n",
       "    <tr>\n",
       "      <th>2020-01-01 01:56:40</th>\n",
       "      <td>-6.532619e+06</td>\n",
       "      <td>-4.101071e+06</td>\n",
       "      <td>-7.719091e+06</td>\n",
       "      <td>5268.872249</td>\n",
       "      <td>-1257.629013</td>\n",
       "      <td>-2265.282454</td>\n",
       "    </tr>\n",
       "    <tr>\n",
       "      <th>2020-01-01 02:05:00</th>\n",
       "      <td>-3.706500e+06</td>\n",
       "      <td>-4.769382e+06</td>\n",
       "      <td>-8.363096e+06</td>\n",
       "      <td>5737.178909</td>\n",
       "      <td>-481.579749</td>\n",
       "      <td>-954.340504</td>\n",
       "    </tr>\n",
       "    <tr>\n",
       "      <th>2020-01-01 02:13:20</th>\n",
       "      <td>-6.329865e+05</td>\n",
       "      <td>-5.049763e+06</td>\n",
       "      <td>-8.386323e+06</td>\n",
       "      <td>6528.516821</td>\n",
       "      <td>562.970395</td>\n",
       "      <td>664.530033</td>\n",
       "    </tr>\n",
       "    <tr>\n",
       "      <th>2020-01-01 02:21:40</th>\n",
       "      <td>2.787555e+06</td>\n",
       "      <td>-4.219518e+06</td>\n",
       "      <td>-7.385754e+06</td>\n",
       "      <td>6229.740090</td>\n",
       "      <td>1492.106617</td>\n",
       "      <td>2848.933959</td>\n",
       "    </tr>\n",
       "    <tr>\n",
       "      <th>2020-01-01 02:30:00</th>\n",
       "      <td>5.307667e+06</td>\n",
       "      <td>-3.143930e+06</td>\n",
       "      <td>-5.741309e+06</td>\n",
       "      <td>4766.119029</td>\n",
       "      <td>2638.319578</td>\n",
       "      <td>4667.686305</td>\n",
       "    </tr>\n",
       "    <tr>\n",
       "      <th>2020-01-01 02:38:20</th>\n",
       "      <td>7.327372e+06</td>\n",
       "      <td>-1.768722e+06</td>\n",
       "      <td>-3.058312e+06</td>\n",
       "      <td>2596.747747</td>\n",
       "      <td>3467.515705</td>\n",
       "      <td>6077.323966</td>\n",
       "    </tr>\n",
       "  </tbody>\n",
       "</table>\n",
       "</div>"
      ],
      "text/plain": [
       "                                x             y             z           vx  \\\n",
       "2020-01-01 00:00:00  8.056982e+06  1.468446e+04  3.100794e+04   -41.522207   \n",
       "2020-01-01 00:08:20  7.154730e+06  1.852806e+06  3.170712e+06 -2908.078162   \n",
       "2020-01-01 00:16:40  5.006926e+06  3.606465e+06  5.901557e+06 -5315.241457   \n",
       "2020-01-01 00:25:00  2.352366e+06  4.434280e+06  7.593867e+06 -6313.109418   \n",
       "2020-01-01 00:33:20 -1.007620e+06  5.033059e+06  8.323170e+06 -6278.175584   \n",
       "2020-01-01 00:41:40 -4.067582e+06  4.962326e+06  8.267137e+06 -5918.025799   \n",
       "2020-01-01 00:50:00 -6.908941e+06  4.381691e+06  7.569041e+06 -5101.186402   \n",
       "2020-01-01 00:58:20 -8.900902e+06  3.333955e+06  5.922577e+06 -3865.802334   \n",
       "2020-01-01 01:06:40 -1.072952e+07  2.449153e+06  4.063725e+06 -2690.374787   \n",
       "2020-01-01 01:15:00 -1.170893e+07  1.477098e+06  2.010125e+06 -1299.566595   \n",
       "2020-01-01 01:23:20 -1.207381e+07 -2.286726e+05 -7.278299e+04    71.787359   \n",
       "2020-01-01 01:31:40 -1.151708e+07 -1.445310e+06 -2.439107e+06  1461.300633   \n",
       "2020-01-01 01:40:00 -1.046759e+07 -2.608557e+06 -4.459756e+06  2907.517698   \n",
       "2020-01-01 01:48:20 -8.869487e+06 -3.508512e+06 -6.282518e+06  4138.495196   \n",
       "2020-01-01 01:56:40 -6.532619e+06 -4.101071e+06 -7.719091e+06  5268.872249   \n",
       "2020-01-01 02:05:00 -3.706500e+06 -4.769382e+06 -8.363096e+06  5737.178909   \n",
       "2020-01-01 02:13:20 -6.329865e+05 -5.049763e+06 -8.386323e+06  6528.516821   \n",
       "2020-01-01 02:21:40  2.787555e+06 -4.219518e+06 -7.385754e+06  6229.740090   \n",
       "2020-01-01 02:30:00  5.307667e+06 -3.143930e+06 -5.741309e+06  4766.119029   \n",
       "2020-01-01 02:38:20  7.327372e+06 -1.768722e+06 -3.058312e+06  2596.747747   \n",
       "\n",
       "                              vy           vz  \n",
       "2020-01-01 00:00:00  3885.734219  6677.381032  \n",
       "2020-01-01 00:08:20  3434.859916  6098.294914  \n",
       "2020-01-01 00:16:40  2799.273333  4452.587151  \n",
       "2020-01-01 00:25:00  1530.104869  2432.364617  \n",
       "2020-01-01 00:33:20   296.658983   754.782685  \n",
       "2020-01-01 00:41:40  -525.722689 -1004.132238  \n",
       "2020-01-01 00:50:00 -1353.391861 -2258.428265  \n",
       "2020-01-01 00:58:20 -1957.304014 -3284.611687  \n",
       "2020-01-01 01:06:40 -2389.261654 -3898.051694  \n",
       "2020-01-01 01:15:00 -2455.605459 -4262.773492  \n",
       "2020-01-01 01:23:20 -2567.253309 -4433.738988  \n",
       "2020-01-01 01:31:40 -2516.046662 -4368.852580  \n",
       "2020-01-01 01:40:00 -2242.412883 -3912.112590  \n",
       "2020-01-01 01:48:20 -1696.232518 -3211.194173  \n",
       "2020-01-01 01:56:40 -1257.629013 -2265.282454  \n",
       "2020-01-01 02:05:00  -481.579749  -954.340504  \n",
       "2020-01-01 02:13:20   562.970395   664.530033  \n",
       "2020-01-01 02:21:40  1492.106617  2848.933959  \n",
       "2020-01-01 02:30:00  2638.319578  4667.686305  \n",
       "2020-01-01 02:38:20  3467.515705  6077.323966  "
      ]
     },
     "metadata": {},
     "output_type": "display_data"
    }
   ],
   "source": [
    "import pandas as pd\n",
    "position_df = pd.DataFrame(columns=['x', 'y', 'z', 'vx', 'vy', 'vz'])\n",
    "position_without_noise_df = pd.DataFrame(columns=['x', 'y', 'z', 'vx', 'vy', 'vz'])\n",
    "\n",
    "from orekit.pyhelpers import absolutedate_to_datetime\n",
    "date_start = datetime_to_absolutedate(orbit_epoch)\n",
    "date_end = date_start.shiftedBy(duration)\n",
    "date_current = date_start\n",
    "\n",
    "while date_current.compareTo(date_end) < 0:\n",
    "    pv_gcrf = propagator.getPVCoordinates(date_current, gcrf)\n",
    "    \n",
    "    # Adding noise to position and velocity\n",
    "    pos_without_noise = np.array(pv_gcrf.getPosition().toArray())\n",
    "    pos_with_noise = pos_without_noise + np.random.normal(0, sigma_position, len(pos_without_noise))\n",
    "    vel_without_noise = np.array(pv_gcrf.getVelocity().toArray())\n",
    "    vel_with_noise = vel_without_noise + np.random.normal(0, sigma_velocity, len(vel_without_noise))\n",
    "    \n",
    "    position_df.loc[absolutedate_to_datetime(date_current)] = np.concatenate(\n",
    "        (pos_with_noise, vel_with_noise)\n",
    "    )\n",
    "    position_without_noise_df.loc[absolutedate_to_datetime(date_current)] = np.concatenate(\n",
    "        (pos_without_noise, vel_without_noise)\n",
    "    )\n",
    "    date_current = date_current.shiftedBy(T)\n",
    "    \n",
    "display(position_df)"
   ]
  },
  {
   "cell_type": "markdown",
   "metadata": {},
   "source": [
    "Finally, saving position data to CSV file"
   ]
  },
  {
   "cell_type": "code",
   "execution_count": 7,
   "metadata": {},
   "outputs": [],
   "source": [
    "position_df.to_csv('pos_vel_data_gcrf_with_noise.csv')\n",
    "position_without_noise_df.to_csv('pos_vel_data_gcrf_without_noise.csv')"
   ]
  },
  {
   "cell_type": "code",
   "execution_count": null,
   "metadata": {},
   "outputs": [],
   "source": []
  }
 ],
 "metadata": {
  "kernelspec": {
   "display_name": "Python 3",
   "language": "python",
   "name": "python3"
  },
  "language_info": {
   "codemirror_mode": {
    "name": "ipython",
    "version": 3
   },
   "file_extension": ".py",
   "mimetype": "text/x-python",
   "name": "python",
   "nbconvert_exporter": "python",
   "pygments_lexer": "ipython3",
   "version": "3.7.6"
  }
 },
 "nbformat": 4,
 "nbformat_minor": 4
}
