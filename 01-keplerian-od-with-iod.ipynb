{
 "cells": [
  {
   "cell_type": "markdown",
   "metadata": {},
   "source": [
    "This notebook demonstrates an orbit determination from position data using a Keplerian propagator and a Batch-Least-Squares (BLS) estimator.\n",
    "\n",
    "It also includes an IOD (Initial Orbit Determination) to avoid needing to know a first guess of the orbit."
   ]
  },
  {
   "cell_type": "markdown",
   "metadata": {},
   "source": [
    "Parameters"
   ]
  },
  {
   "cell_type": "code",
   "execution_count": 1,
   "metadata": {},
   "outputs": [],
   "source": [
    "sigma_position = 100e3  # Noise (in terms of standard deviation of gaussian distribution) of input position data in meters\n",
    "sigma_velocity = 100.0  # Noise of input velocity data in meters per second\n",
    "\n",
    "# Estimator parameters\n",
    "estimator_position_scale = 1.0 # m\n",
    "estimator_convergence_thres = 1e-2\n",
    "estimator_max_iterations = 25\n",
    "estimator_max_evaluations = 35\n",
    "\n",
    "# Orbit propagator parameters\n",
    "prop_min_step = 0.001 # s\n",
    "prop_max_step = 300.0 # s\n",
    "prop_position_error = 10.0 # m"
   ]
  },
  {
   "cell_type": "markdown",
   "metadata": {},
   "source": [
    "Importing generated position/velocity data"
   ]
  },
  {
   "cell_type": "code",
   "execution_count": 2,
   "metadata": {},
   "outputs": [
    {
     "data": {
      "text/html": [
       "<div>\n",
       "<style scoped>\n",
       "    .dataframe tbody tr th:only-of-type {\n",
       "        vertical-align: middle;\n",
       "    }\n",
       "\n",
       "    .dataframe tbody tr th {\n",
       "        vertical-align: top;\n",
       "    }\n",
       "\n",
       "    .dataframe thead th {\n",
       "        text-align: right;\n",
       "    }\n",
       "</style>\n",
       "<table border=\"1\" class=\"dataframe\">\n",
       "  <thead>\n",
       "    <tr style=\"text-align: right;\">\n",
       "      <th></th>\n",
       "      <th>x</th>\n",
       "      <th>y</th>\n",
       "      <th>z</th>\n",
       "      <th>vx</th>\n",
       "      <th>vy</th>\n",
       "      <th>vz</th>\n",
       "    </tr>\n",
       "  </thead>\n",
       "  <tbody>\n",
       "    <tr>\n",
       "      <th>2020-01-01 01:15:00</th>\n",
       "      <td>-4.100845e+06</td>\n",
       "      <td>2.615425e+06</td>\n",
       "      <td>-4.759243e+06</td>\n",
       "      <td>-3623.980831</td>\n",
       "      <td>4010.938693</td>\n",
       "      <td>5317.404963</td>\n",
       "    </tr>\n",
       "    <tr>\n",
       "      <th>2020-01-01 01:23:20</th>\n",
       "      <td>-5.232941e+06</td>\n",
       "      <td>4.262905e+06</td>\n",
       "      <td>-1.471868e+06</td>\n",
       "      <td>-648.898649</td>\n",
       "      <td>1776.460829</td>\n",
       "      <td>7188.497350</td>\n",
       "    </tr>\n",
       "    <tr>\n",
       "      <th>2020-01-01 01:31:40</th>\n",
       "      <td>-4.787433e+06</td>\n",
       "      <td>4.498748e+06</td>\n",
       "      <td>2.118114e+06</td>\n",
       "      <td>2535.337108</td>\n",
       "      <td>-739.645375</td>\n",
       "      <td>7087.354134</td>\n",
       "    </tr>\n",
       "    <tr>\n",
       "      <th>2020-01-01 01:40:00</th>\n",
       "      <td>-3.082245e+06</td>\n",
       "      <td>3.354607e+06</td>\n",
       "      <td>5.293865e+06</td>\n",
       "      <td>4780.055703</td>\n",
       "      <td>-3277.485557</td>\n",
       "      <td>5013.488644</td>\n",
       "    </tr>\n",
       "    <tr>\n",
       "      <th>2020-01-01 01:48:20</th>\n",
       "      <td>-2.752019e+05</td>\n",
       "      <td>1.200146e+06</td>\n",
       "      <td>6.814466e+06</td>\n",
       "      <td>5754.039818</td>\n",
       "      <td>-4735.540685</td>\n",
       "      <td>1200.886810</td>\n",
       "    </tr>\n",
       "    <tr>\n",
       "      <th>2020-01-01 01:56:40</th>\n",
       "      <td>2.477261e+06</td>\n",
       "      <td>-1.099558e+06</td>\n",
       "      <td>6.374250e+06</td>\n",
       "      <td>5179.534246</td>\n",
       "      <td>-4861.776170</td>\n",
       "      <td>-3051.906538</td>\n",
       "    </tr>\n",
       "    <tr>\n",
       "      <th>2020-01-01 02:05:00</th>\n",
       "      <td>4.495547e+06</td>\n",
       "      <td>-3.211883e+06</td>\n",
       "      <td>3.978188e+06</td>\n",
       "      <td>2939.002015</td>\n",
       "      <td>-3409.018079</td>\n",
       "      <td>-6075.496180</td>\n",
       "    </tr>\n",
       "    <tr>\n",
       "      <th>2020-01-01 02:13:20</th>\n",
       "      <td>5.365940e+06</td>\n",
       "      <td>-3.997454e+06</td>\n",
       "      <td>3.923546e+05</td>\n",
       "      <td>-294.164942</td>\n",
       "      <td>-1238.876745</td>\n",
       "      <td>-7626.515473</td>\n",
       "    </tr>\n",
       "    <tr>\n",
       "      <th>2020-01-01 02:21:40</th>\n",
       "      <td>4.364125e+06</td>\n",
       "      <td>-4.251921e+06</td>\n",
       "      <td>-3.137996e+06</td>\n",
       "      <td>-3242.732550</td>\n",
       "      <td>1924.049850</td>\n",
       "      <td>-6786.544368</td>\n",
       "    </tr>\n",
       "    <tr>\n",
       "      <th>2020-01-01 02:30:00</th>\n",
       "      <td>2.208699e+06</td>\n",
       "      <td>-2.799695e+06</td>\n",
       "      <td>-5.970779e+06</td>\n",
       "      <td>-5369.700862</td>\n",
       "      <td>3606.795318</td>\n",
       "      <td>-4048.146862</td>\n",
       "    </tr>\n",
       "    <tr>\n",
       "      <th>2020-01-01 02:38:20</th>\n",
       "      <td>-8.079421e+05</td>\n",
       "      <td>-6.033825e+05</td>\n",
       "      <td>-7.108516e+06</td>\n",
       "      <td>-5673.099181</td>\n",
       "      <td>4943.355120</td>\n",
       "      <td>188.415826</td>\n",
       "    </tr>\n",
       "  </tbody>\n",
       "</table>\n",
       "</div>"
      ],
      "text/plain": [
       "                                x             y             z           vx  \\\n",
       "2020-01-01 01:15:00 -4.100845e+06  2.615425e+06 -4.759243e+06 -3623.980831   \n",
       "2020-01-01 01:23:20 -5.232941e+06  4.262905e+06 -1.471868e+06  -648.898649   \n",
       "2020-01-01 01:31:40 -4.787433e+06  4.498748e+06  2.118114e+06  2535.337108   \n",
       "2020-01-01 01:40:00 -3.082245e+06  3.354607e+06  5.293865e+06  4780.055703   \n",
       "2020-01-01 01:48:20 -2.752019e+05  1.200146e+06  6.814466e+06  5754.039818   \n",
       "2020-01-01 01:56:40  2.477261e+06 -1.099558e+06  6.374250e+06  5179.534246   \n",
       "2020-01-01 02:05:00  4.495547e+06 -3.211883e+06  3.978188e+06  2939.002015   \n",
       "2020-01-01 02:13:20  5.365940e+06 -3.997454e+06  3.923546e+05  -294.164942   \n",
       "2020-01-01 02:21:40  4.364125e+06 -4.251921e+06 -3.137996e+06 -3242.732550   \n",
       "2020-01-01 02:30:00  2.208699e+06 -2.799695e+06 -5.970779e+06 -5369.700862   \n",
       "2020-01-01 02:38:20 -8.079421e+05 -6.033825e+05 -7.108516e+06 -5673.099181   \n",
       "\n",
       "                              vy           vz  \n",
       "2020-01-01 01:15:00  4010.938693  5317.404963  \n",
       "2020-01-01 01:23:20  1776.460829  7188.497350  \n",
       "2020-01-01 01:31:40  -739.645375  7087.354134  \n",
       "2020-01-01 01:40:00 -3277.485557  5013.488644  \n",
       "2020-01-01 01:48:20 -4735.540685  1200.886810  \n",
       "2020-01-01 01:56:40 -4861.776170 -3051.906538  \n",
       "2020-01-01 02:05:00 -3409.018079 -6075.496180  \n",
       "2020-01-01 02:13:20 -1238.876745 -7626.515473  \n",
       "2020-01-01 02:21:40  1924.049850 -6786.544368  \n",
       "2020-01-01 02:30:00  3606.795318 -4048.146862  \n",
       "2020-01-01 02:38:20  4943.355120   188.415826  "
      ]
     },
     "metadata": {},
     "output_type": "display_data"
    }
   ],
   "source": [
    "import pandas as pd\n",
    "points_df = pd.read_csv('pv_simulated_gcrf_with_noise.csv', index_col=0, parse_dates=True)\n",
    "points_true_df = pd.read_csv('pv_simulated_gcrf_without_noise.csv', index_col=0, parse_dates=True)\n",
    "display(points_df)"
   ]
  },
  {
   "cell_type": "markdown",
   "metadata": {},
   "source": [
    "Firing up a JVM for Orekit"
   ]
  },
  {
   "cell_type": "code",
   "execution_count": 3,
   "metadata": {},
   "outputs": [
    {
     "data": {
      "text/plain": [
       "<jcc.JCCEnv at 0x7fa61c71ab90>"
      ]
     },
     "execution_count": 3,
     "metadata": {},
     "output_type": "execute_result"
    }
   ],
   "source": [
    "import orekit\n",
    "orekit.initVM()"
   ]
  },
  {
   "cell_type": "markdown",
   "metadata": {},
   "source": [
    "Downloading and importing the Orekit data ZIP"
   ]
  },
  {
   "cell_type": "code",
   "execution_count": 4,
   "metadata": {},
   "outputs": [
    {
     "name": "stdout",
     "output_type": "stream",
     "text": [
      "Downloading file from: https://gitlab.orekit.org/orekit/orekit-data/-/archive/master/orekit-data-master.zip\n"
     ]
    }
   ],
   "source": [
    "from orekit.pyhelpers import download_orekit_data_curdir, setup_orekit_curdir\n",
    "download_orekit_data_curdir()\n",
    "setup_orekit_curdir()"
   ]
  },
  {
   "cell_type": "code",
   "execution_count": 5,
   "metadata": {},
   "outputs": [],
   "source": [
    "from org.orekit.frames import FramesFactory\n",
    "gcrf = FramesFactory.getGCRF()\n",
    "\n",
    "from org.orekit.time import TimeScalesFactory\n",
    "utc = TimeScalesFactory.getUTC()"
   ]
  },
  {
   "cell_type": "markdown",
   "metadata": {},
   "source": [
    "Picking 3 vectors for orbit determination. These vectors are selected evenly-spaced in the dataframe."
   ]
  },
  {
   "cell_type": "code",
   "execution_count": 6,
   "metadata": {},
   "outputs": [
    {
     "data": {
      "text/html": [
       "<div>\n",
       "<style scoped>\n",
       "    .dataframe tbody tr th:only-of-type {\n",
       "        vertical-align: middle;\n",
       "    }\n",
       "\n",
       "    .dataframe tbody tr th {\n",
       "        vertical-align: top;\n",
       "    }\n",
       "\n",
       "    .dataframe thead th {\n",
       "        text-align: right;\n",
       "    }\n",
       "</style>\n",
       "<table border=\"1\" class=\"dataframe\">\n",
       "  <thead>\n",
       "    <tr style=\"text-align: right;\">\n",
       "      <th></th>\n",
       "      <th>x</th>\n",
       "      <th>y</th>\n",
       "      <th>z</th>\n",
       "      <th>vx</th>\n",
       "      <th>vy</th>\n",
       "      <th>vz</th>\n",
       "    </tr>\n",
       "  </thead>\n",
       "  <tbody>\n",
       "    <tr>\n",
       "      <th>2020-01-01 01:15:00</th>\n",
       "      <td>-4.100845e+06</td>\n",
       "      <td>2.615425e+06</td>\n",
       "      <td>-4.759243e+06</td>\n",
       "      <td>-3623.980831</td>\n",
       "      <td>4010.938693</td>\n",
       "      <td>5317.404963</td>\n",
       "    </tr>\n",
       "    <tr>\n",
       "      <th>2020-01-01 01:48:20</th>\n",
       "      <td>-2.752019e+05</td>\n",
       "      <td>1.200146e+06</td>\n",
       "      <td>6.814466e+06</td>\n",
       "      <td>5754.039818</td>\n",
       "      <td>-4735.540685</td>\n",
       "      <td>1200.886810</td>\n",
       "    </tr>\n",
       "    <tr>\n",
       "      <th>2020-01-01 02:21:40</th>\n",
       "      <td>4.364125e+06</td>\n",
       "      <td>-4.251921e+06</td>\n",
       "      <td>-3.137996e+06</td>\n",
       "      <td>-3242.732550</td>\n",
       "      <td>1924.049850</td>\n",
       "      <td>-6786.544368</td>\n",
       "    </tr>\n",
       "  </tbody>\n",
       "</table>\n",
       "</div>"
      ],
      "text/plain": [
       "                                x             y             z           vx  \\\n",
       "2020-01-01 01:15:00 -4.100845e+06  2.615425e+06 -4.759243e+06 -3623.980831   \n",
       "2020-01-01 01:48:20 -2.752019e+05  1.200146e+06  6.814466e+06  5754.039818   \n",
       "2020-01-01 02:21:40  4.364125e+06 -4.251921e+06 -3.137996e+06 -3242.732550   \n",
       "\n",
       "                              vy           vz  \n",
       "2020-01-01 01:15:00  4010.938693  5317.404963  \n",
       "2020-01-01 01:48:20 -4735.540685  1200.886810  \n",
       "2020-01-01 02:21:40  1924.049850 -6786.544368  "
      ]
     },
     "metadata": {},
     "output_type": "display_data"
    }
   ],
   "source": [
    "import math\n",
    "i = math.ceil(len(points_df.index) / 3)\n",
    "points_for_iod = points_df.iloc[::i, :]\n",
    "display(points_for_iod)\n",
    "\n",
    "from org.hipparchus.geometry.euclidean.threed import Vector3D\n",
    "from orekit.pyhelpers import datetime_to_absolutedate\n",
    "pos_1 = points_for_iod.iloc[0]\n",
    "vector_1 = Vector3D(pos_1[['x', 'y', 'z']].to_list())\n",
    "date_1 = datetime_to_absolutedate(points_for_iod.index[0])\n",
    "\n",
    "pos_2 = points_for_iod.iloc[1]\n",
    "vector_2 = Vector3D(pos_2[['x', 'y', 'z']].to_list())\n",
    "date_2 = datetime_to_absolutedate(points_for_iod.index[1])\n",
    "\n",
    "pos_3 = points_for_iod.iloc[2]\n",
    "vector_3 = Vector3D(pos_3[['x', 'y', 'z']].to_list())\n",
    "date_3 = datetime_to_absolutedate(points_for_iod.index[2])"
   ]
  },
  {
   "cell_type": "markdown",
   "metadata": {},
   "source": [
    "Performing the Initial Orbit Determination using Gibb's method. It assumes that at least 3 data points are available"
   ]
  },
  {
   "cell_type": "code",
   "execution_count": 7,
   "metadata": {},
   "outputs": [
    {
     "data": {
      "text/plain": [
       "<KeplerianOrbit: Keplerian parameters: {a: 6864237.170672177; e: 0.009857787610219878; i: 96.22078964358812; pa: -71.93993560956903; raan: 140.0187077554949; v: 153.78728956760176;}>"
      ]
     },
     "metadata": {},
     "output_type": "display_data"
    }
   ],
   "source": [
    "from org.orekit.estimation.iod import IodGibbs\n",
    "from org.orekit.utils import Constants as orekit_constants\n",
    "iod_gibbs = IodGibbs(orekit_constants.EIGEN5C_EARTH_MU)\n",
    "orbit_first_guess = iod_gibbs.estimate(gcrf,\n",
    "                                      vector_1, date_1,\n",
    "                                      vector_2, date_2,\n",
    "                                      vector_3, date_3)\n",
    "from org.orekit.propagation.analytical import KeplerianPropagator\n",
    "kepler_propagator_iod = KeplerianPropagator(orbit_first_guess)\n",
    "\n",
    "display(orbit_first_guess)"
   ]
  },
  {
   "cell_type": "markdown",
   "metadata": {},
   "source": [
    "Setting up a numerical propagator. It is not possible in Orekit to perform orbit determination with a Keplerian propagator."
   ]
  },
  {
   "cell_type": "code",
   "execution_count": 8,
   "metadata": {},
   "outputs": [],
   "source": [
    "from org.orekit.propagation.conversion import DormandPrince853IntegratorBuilder\n",
    "integratorBuilder = DormandPrince853IntegratorBuilder(prop_min_step, prop_max_step, prop_position_error)\n",
    "\n",
    "from org.orekit.propagation.conversion import NumericalPropagatorBuilder\n",
    "from org.orekit.orbits import PositionAngle\n",
    "propagatorBuilder = NumericalPropagatorBuilder(orbit_first_guess,\n",
    "                                               integratorBuilder, PositionAngle.TRUE, estimator_position_scale)\n",
    "from org.hipparchus.linear import QRDecomposer\n",
    "matrix_decomposer = QRDecomposer(1e-11)\n",
    "from org.hipparchus.optim.nonlinear.vector.leastsquares import GaussNewtonOptimizer\n",
    "optimizer = GaussNewtonOptimizer(matrix_decomposer, False)\n",
    "\n",
    "from org.orekit.estimation.leastsquares import BatchLSEstimator\n",
    "estimator = BatchLSEstimator(optimizer, propagatorBuilder)\n",
    "estimator.setParametersConvergenceThreshold(estimator_convergence_thres)\n",
    "estimator.setMaxIterations(estimator_max_iterations)\n",
    "estimator.setMaxEvaluations(estimator_max_evaluations)"
   ]
  },
  {
   "cell_type": "markdown",
   "metadata": {},
   "source": [
    "Feeding position measurements to the esimator"
   ]
  },
  {
   "cell_type": "code",
   "execution_count": 9,
   "metadata": {},
   "outputs": [],
   "source": [
    "from orekit.pyhelpers import datetime_to_absolutedate\n",
    "from org.orekit.estimation.measurements import Position, ObservableSatellite\n",
    "\n",
    "observableSatellite = ObservableSatellite(0) # Propagator index = 0\n",
    "\n",
    "for timestamp, pv_gcrf in points_df.iterrows():\n",
    "    orekit_position = Position(\n",
    "        datetime_to_absolutedate(timestamp),\n",
    "        Vector3D(pv_gcrf[['x', 'y', 'z']].to_list()),\n",
    "        sigma_position,\n",
    "        1.0,  # Base weight\n",
    "        observableSatellite\n",
    "    )\n",
    "    estimator.addMeasurement(orekit_position)"
   ]
  },
  {
   "cell_type": "markdown",
   "metadata": {},
   "source": [
    "Performing the orbit determination"
   ]
  },
  {
   "cell_type": "code",
   "execution_count": 10,
   "metadata": {},
   "outputs": [
    {
     "ename": "JavaError",
     "evalue": "<super: <class 'JavaError'>, <JavaError object>>\n    Java stacktrace:\norg.orekit.errors.OrekitException: Jacobian matrix for type KEPLERIAN is singular with current orbit\n\tat org.orekit.propagation.numerical.NumericalPropagator.tolerances(NumericalPropagator.java:684)\n\tat org.orekit.propagation.conversion.DormandPrince853IntegratorBuilder.buildIntegrator(DormandPrince853IntegratorBuilder.java:55)\n\tat org.orekit.propagation.conversion.NumericalPropagatorBuilder.buildPropagator(NumericalPropagatorBuilder.java:209)\n\tat org.orekit.propagation.conversion.NumericalPropagatorBuilder.buildPropagator(NumericalPropagatorBuilder.java:47)\n\tat org.orekit.estimation.leastsquares.BatchLSModel.createPropagators(BatchLSModel.java:323)\n\tat org.orekit.estimation.leastsquares.BatchLSModel.value(BatchLSModel.java:224)\n\tat org.hipparchus.optim.nonlinear.vector.leastsquares.LeastSquaresFactory$LocalLeastSquaresProblem.evaluate(LeastSquaresFactory.java:440)\n\tat org.orekit.estimation.leastsquares.BatchLSEstimator$TappedLSProblem.evaluate(BatchLSEstimator.java:616)\n\tat org.hipparchus.optim.nonlinear.vector.leastsquares.GaussNewtonOptimizer.optimize(GaussNewtonOptimizer.java:399)\n\tat org.orekit.estimation.leastsquares.BatchLSEstimator.estimate(BatchLSEstimator.java:436)\n",
     "output_type": "error",
     "traceback": [
      "\u001b[0;31m---------------------------------------------------------------------------\u001b[0m",
      "\u001b[0;31mJavaError\u001b[0m                                 Traceback (most recent call last)",
      "\u001b[0;32m<ipython-input-10-23bf7ace616e>\u001b[0m in \u001b[0;36m<module>\u001b[0;34m\u001b[0m\n\u001b[0;32m----> 1\u001b[0;31m \u001b[0mestimatedPropagatorArray\u001b[0m \u001b[0;34m=\u001b[0m \u001b[0mestimator\u001b[0m\u001b[0;34m.\u001b[0m\u001b[0mestimate\u001b[0m\u001b[0;34m(\u001b[0m\u001b[0;34m)\u001b[0m\u001b[0;34m\u001b[0m\u001b[0;34m\u001b[0m\u001b[0m\n\u001b[0m",
      "\u001b[0;31mJavaError\u001b[0m: <super: <class 'JavaError'>, <JavaError object>>\n    Java stacktrace:\norg.orekit.errors.OrekitException: Jacobian matrix for type KEPLERIAN is singular with current orbit\n\tat org.orekit.propagation.numerical.NumericalPropagator.tolerances(NumericalPropagator.java:684)\n\tat org.orekit.propagation.conversion.DormandPrince853IntegratorBuilder.buildIntegrator(DormandPrince853IntegratorBuilder.java:55)\n\tat org.orekit.propagation.conversion.NumericalPropagatorBuilder.buildPropagator(NumericalPropagatorBuilder.java:209)\n\tat org.orekit.propagation.conversion.NumericalPropagatorBuilder.buildPropagator(NumericalPropagatorBuilder.java:47)\n\tat org.orekit.estimation.leastsquares.BatchLSModel.createPropagators(BatchLSModel.java:323)\n\tat org.orekit.estimation.leastsquares.BatchLSModel.value(BatchLSModel.java:224)\n\tat org.hipparchus.optim.nonlinear.vector.leastsquares.LeastSquaresFactory$LocalLeastSquaresProblem.evaluate(LeastSquaresFactory.java:440)\n\tat org.orekit.estimation.leastsquares.BatchLSEstimator$TappedLSProblem.evaluate(BatchLSEstimator.java:616)\n\tat org.hipparchus.optim.nonlinear.vector.leastsquares.GaussNewtonOptimizer.optimize(GaussNewtonOptimizer.java:399)\n\tat org.orekit.estimation.leastsquares.BatchLSEstimator.estimate(BatchLSEstimator.java:436)\n"
     ]
    }
   ],
   "source": [
    "estimatedPropagatorArray = estimator.estimate()"
   ]
  },
  {
   "cell_type": "code",
   "execution_count": null,
   "metadata": {},
   "outputs": [],
   "source": [
    "dt = 60.0\n",
    "date_start = datetime_to_absolutedate(points_df.index[0])\n",
    "date_end = datetime_to_absolutedate(points_df.index[-1])\n",
    "\n",
    "# First propagating in ephemeris mode\n",
    "estimatedPropagator = estimatedPropagatorArray[0]\n",
    "estimatedInitialState = estimatedPropagator.getInitialState()\n",
    "display(estimatedInitialState.getOrbit())\n",
    "estimatedPropagator.resetInitialState(estimatedInitialState)\n",
    "estimatedPropagator.setEphemerisMode()\n",
    "\n",
    "estimatedPropagator.propagate(date_start, date_end)\n",
    "bounded_propagator = estimatedPropagator.getGeneratedEphemeris()"
   ]
  },
  {
   "cell_type": "markdown",
   "metadata": {},
   "source": [
    "Propagating the bounded propagator to retrieve the intermediate states"
   ]
  },
  {
   "cell_type": "code",
   "execution_count": null,
   "metadata": {},
   "outputs": [],
   "source": [
    "# BLS = batch least squares\n",
    "\n",
    "import numpy as np\n",
    "from orekit.pyhelpers import absolutedate_to_datetime\n",
    "pv_bls_df = pd.DataFrame(columns=['x', 'y', 'z', 'vx', 'vy', 'vz'])\n",
    "pv_iod_df = pd.DataFrame(columns=['x', 'y', 'z', 'vx', 'vy', 'vz'])\n",
    "    \n",
    "date_current = date_start\n",
    "while date_current.compareTo(date_end) <= 0:\n",
    "    datetime_current = absolutedate_to_datetime(date_current)    \n",
    "    spacecraftState = bounded_propagator.propagate(date_current)\n",
    "    \n",
    "    pv_bls = spacecraftState.getPVCoordinates(gcrf)\n",
    "    pos_bls = np.array(pv_bls.getPosition().toArray())\n",
    "    pv_bls_df.loc[datetime_current] = np.concatenate(\n",
    "        (pos_bls,\n",
    "         np.array(pv_bls.getVelocity().toArray()))\n",
    "    )\n",
    "\n",
    "    pv_iod = kepler_propagator_iod.getPVCoordinates(date_current, gcrf)\n",
    "    pos_iod_gcrf = np.array(pv_iod.getPosition().toArray())\n",
    "    pv_iod_df.loc[datetime_current] = np.concatenate(\n",
    "        (pos_iod_gcrf,\n",
    "         np.array(pv_iod.getVelocity().toArray()))\n",
    "    )\n",
    "    date_current = date_current.shiftedBy(dt)    "
   ]
  },
  {
   "cell_type": "markdown",
   "metadata": {},
   "source": [
    "Plotting orbit in 3D."
   ]
  },
  {
   "cell_type": "code",
   "execution_count": null,
   "metadata": {},
   "outputs": [],
   "source": [
    "import plotly.io as pio\n",
    "pio.renderers.default = 'jupyterlab+notebook+png'  # Uncomment for interactive plots"
   ]
  },
  {
   "cell_type": "code",
   "execution_count": null,
   "metadata": {},
   "outputs": [],
   "source": [
    "import plotly.graph_objects as go\n",
    "fig_data = data=[go.Scatter3d(x=pv_iod_df['x'], y=pv_iod_df['y'], z=pv_iod_df['z'],\n",
    "                              mode='lines',\n",
    "                              name='IOD solution'),\n",
    "                 go.Scatter3d(x=pv_bls_df['x'], y=pv_bls_df['y'], z=pv_bls_df['z'],\n",
    "                              mode='lines',\n",
    "                              name='Batch least squares solution'),\n",
    "                 go.Scatter3d(x=points_df['x'], y=points_df['y'], z=points_df['z'],\n",
    "                             mode='markers',\n",
    "                             name='Measurements'),\n",
    "                 go.Scatter3d(x=points_for_iod['x'], y=points_for_iod['y'], z=points_for_iod['z'],\n",
    "                             mode='markers',\n",
    "                             name='Measurements used for IOD')]\n",
    "scene=dict(aspectmode='data', #this string can be 'data', 'cube', 'auto', 'manual'\n",
    "          )\n",
    "layout = dict(\n",
    "    scene=scene\n",
    ")\n",
    "fig = go.Figure(data=fig_data,\n",
    "               layout=layout)\n",
    "fig.show()"
   ]
  },
  {
   "cell_type": "markdown",
   "metadata": {},
   "source": [
    "Computing residuals"
   ]
  },
  {
   "cell_type": "code",
   "execution_count": null,
   "metadata": {},
   "outputs": [],
   "source": [
    "residuals_df = pd.DataFrame(columns=['bls_minus_measurements_norm', 'iod_minus_measurements_norm', 'bls_minus_truth_norm', 'iod_minus_truth_norm'])\n",
    "\n",
    "for timestamp, pv_gcrf in points_df.iterrows():    \n",
    "    date_current = datetime_to_absolutedate(timestamp)\n",
    "    pv_bls = bounded_propagator.getPVCoordinates(date_current, gcrf)\n",
    "    pos_bls = np.array(pv_bls.getPosition().toArray())\n",
    "\n",
    "    pv_iod = kepler_propagator_iod.getPVCoordinates(date_current, gcrf)\n",
    "    pos_iod = np.array(pv_iod.getPosition().toArray())\n",
    "    \n",
    "    pv_measurements = points_df.loc[timestamp]\n",
    "    pos_measurements = pv_measurements[['x', 'y', 'z']]\n",
    "    \n",
    "    pv_true = points_true_df.loc[timestamp]\n",
    "    pos_true = pv_true[['x', 'y', 'z']]\n",
    "    \n",
    "    bls_minus_measurements = np.linalg.norm(pos_bls - pos_measurements)\n",
    "    iod_minus_measurements = np.linalg.norm(pos_iod - pos_measurements)\n",
    "    bls_minus_truth = np.linalg.norm(pos_bls - pos_true)\n",
    "    iod_minus_truth = np.linalg.norm(pos_iod - pos_true)\n",
    "    \n",
    "    residuals_df.loc[timestamp] = [\n",
    "        np.linalg.norm(pos_bls - pos_measurements),\n",
    "        np.linalg.norm(pos_iod - pos_measurements),\n",
    "        np.linalg.norm(pos_bls - pos_true),\n",
    "        np.linalg.norm(pos_iod - pos_true),\n",
    "    ]\n",
    "    \n",
    "display(residuals_df)"
   ]
  },
  {
   "cell_type": "markdown",
   "metadata": {},
   "source": [
    "Showing the residuals, i.e. the distance between the measurement points and the estimated positions (by the IOD and the BLS respectively).\n",
    "\n",
    "This tells how well the estimation fits the measurements, but not how well it fits the \"true\" orbit, because the measurements contain significant noise here."
   ]
  },
  {
   "cell_type": "code",
   "execution_count": null,
   "metadata": {},
   "outputs": [],
   "source": [
    "fig = go.Figure(data=[\n",
    "    go.Scatter(x=residuals_df.index, y=residuals_df['bls_minus_measurements_norm'], \n",
    "               name='BLS - measurements', \n",
    "               mode='markers+lines'),\n",
    "    go.Scatter(x=residuals_df.index, y=residuals_df['iod_minus_measurements_norm'], \n",
    "               name='IOD - measurements', \n",
    "               mode='markers+lines')    \n",
    "])\n",
    "\n",
    "fig.show()"
   ]
  },
  {
   "cell_type": "markdown",
   "metadata": {},
   "source": [
    "Showing the \"estimation error\", i.e. the difference between the truth (used to generate the measurement data) and the estimation.\n",
    "\n",
    "The batch least squares estimation gives better results than the measurement noise: it is able to \"filter out\" the noise a little bit as it fits the ellipse."
   ]
  },
  {
   "cell_type": "code",
   "execution_count": null,
   "metadata": {},
   "outputs": [],
   "source": [
    "fig = go.Figure(data=[\n",
    "    go.Scatter(x=residuals_df.index, y=residuals_df['bls_minus_truth_norm'], name='BLS - truth', mode='markers+lines'),\n",
    "    go.Scatter(x=residuals_df.index, y=residuals_df['iod_minus_truth_norm'], name='IOD - truth', mode='markers+lines'),\n",
    "])\n",
    "\n",
    "fig.show()"
   ]
  },
  {
   "cell_type": "code",
   "execution_count": null,
   "metadata": {},
   "outputs": [],
   "source": []
  }
 ],
 "metadata": {
  "kernelspec": {
   "display_name": "Python 3",
   "language": "python",
   "name": "python3"
  },
  "language_info": {
   "codemirror_mode": {
    "name": "ipython",
    "version": 3
   },
   "file_extension": ".py",
   "mimetype": "text/x-python",
   "name": "python",
   "nbconvert_exporter": "python",
   "pygments_lexer": "ipython3",
   "version": "3.7.6"
  }
 },
 "nbformat": 4,
 "nbformat_minor": 4
}
