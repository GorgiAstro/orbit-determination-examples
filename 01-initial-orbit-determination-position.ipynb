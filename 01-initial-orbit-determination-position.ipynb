{
 "cells": [
  {
   "cell_type": "markdown",
   "metadata": {},
   "source": [
    "This notebook presents different methods for Initial Orbit Determination (IOD) from position vectors offered by Orekit.\n",
    "\n",
    "IOD is needed when there is no orbit forecast (such as TLE) available for a satellite.\n",
    "\n",
    "The solution from an IOD is not very accurate, but it may be enough for the first ground station contacts and to use as a first guess for orbit determination methods such as Batch Least Squares or a Kalman filter.\n",
    "\n",
    "The two following methods are used and compared:\n",
    "\n",
    "* Gibbs: it uses three position vectors and assumes Keplerian motion\n",
    "* Lambert: it uses two position vectors and assumes Keplerian motion"
   ]
  },
  {
   "cell_type": "code",
   "execution_count": null,
   "metadata": {},
   "outputs": [],
   "source": []
  }
 ],
 "metadata": {
  "kernelspec": {
   "display_name": "Python 3",
   "language": "python",
   "name": "python3"
  },
  "language_info": {
   "codemirror_mode": {
    "name": "ipython",
    "version": 3
   },
   "file_extension": ".py",
   "mimetype": "text/x-python",
   "name": "python",
   "nbconvert_exporter": "python",
   "pygments_lexer": "ipython3",
   "version": "3.7.6"
  }
 },
 "nbformat": 4,
 "nbformat_minor": 4
}
