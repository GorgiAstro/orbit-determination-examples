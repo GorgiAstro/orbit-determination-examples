{
 "cells": [
  {
   "cell_type": "markdown",
   "metadata": {},
   "source": [
    "This notebook generates measurement data with noise for orbit determination purposes, using a Keplerian propagator:\n",
    "\n",
    "* Position/Velocity\n",
    "* Range as seen from a list of ground stations\n",
    "* Range rate (doppler) as seen from a list of ground stations\n",
    "* Az/el as seen from a list of ground stations\n",
    "\n",
    "The list of (example, not real) ground stations is loaded from the CSV file `ground-stations.csv`"
   ]
  },
  {
   "cell_type": "markdown",
   "metadata": {},
   "source": [
    "This notebook is thought for small satellite operators wishing to perform orbit determination shortly after launch. Therefore the orbit parameters are defined by the state vector at spacecraft separation. \n",
    "\n",
    "The frame is usually defined by freezing the Earth inertial frame at launcher lift-off."
   ]
  },
  {
   "cell_type": "code",
   "execution_count": null,
   "metadata": {},
   "outputs": [],
   "source": [
    "import numpy as np\n",
    "import datetime\n",
    "launch_date = datetime.datetime(2020, 1, 1)\n",
    "separation_time = 4242.0  # seconds after lift-off\n",
    "pos_init = [-3092.1e3, 1568.9e3, -5975.1e3] # Defined in frame frozen at lift-off time\n",
    "vel_init = [-4767.1, 4630.9, 3671.0]\n",
    "\n",
    "n_orbits = 1.0  # Number of orbits to generate"
   ]
  },
  {
   "cell_type": "markdown",
   "metadata": {},
   "source": [
    "Measurement parameters. For each type of measurement, two files are generated, one with the perfect measurements, one with noise added.\n",
    "The noise for each type of measurement is modeled by a gaussian distribution with standard deviation $\\sigma$"
   ]
  },
  {
   "cell_type": "code",
   "execution_count": null,
   "metadata": {},
   "outputs": [],
   "source": [
    "sigma_position = 100e3  # Position noise in meters\n",
    "sigma_velocity = 100.0  # Velocity noise in meters per second\n",
    "step_pv = 500.0  # Step time for output PV data\n",
    "\n",
    "sigma_range = 1e3  # Range noise in meters\n",
    "sigma_range_rate = 10e3  # Range rate noise in meters per second\n",
    "sigma_az = float(np.deg2rad(1.0))  # Azimuth noise in radians\n",
    "sigma_el = float(np.deg2rad(1.0))  # Elevation noise in radians\n",
    "step_ground_station_measurements = 30.0  # When a ground station is in view, take measurements every 30 seconds"
   ]
  },
  {
   "cell_type": "markdown",
   "metadata": {},
   "source": [
    "Loading the ground stations"
   ]
  },
  {
   "cell_type": "code",
   "execution_count": null,
   "metadata": {},
   "outputs": [],
   "source": [
    "import pandas as pd\n",
    "ground_station_df = pd.read_csv('ground-stations.csv', index_col=0)\n",
    "display(ground_station_df)"
   ]
  },
  {
   "cell_type": "markdown",
   "metadata": {},
   "source": [
    "Firing up a JVM for Orekit"
   ]
  },
  {
   "cell_type": "code",
   "execution_count": null,
   "metadata": {},
   "outputs": [],
   "source": [
    "import orekit\n",
    "orekit.initVM()"
   ]
  },
  {
   "cell_type": "markdown",
   "metadata": {},
   "source": [
    "Downloading and importing the Orekit data ZIP"
   ]
  },
  {
   "cell_type": "code",
   "execution_count": null,
   "metadata": {},
   "outputs": [],
   "source": [
    "from orekit.pyhelpers import download_orekit_data_curdir, setup_orekit_curdir\n",
    "try:\n",
    "    download_orekit_data_curdir()\n",
    "except:\n",
    "    print('Download failed')\n",
    "setup_orekit_curdir()"
   ]
  },
  {
   "cell_type": "markdown",
   "metadata": {},
   "source": [
    "Setting up models (frames, timescales)"
   ]
  },
  {
   "cell_type": "code",
   "execution_count": null,
   "metadata": {},
   "outputs": [],
   "source": [
    "from org.orekit.frames import FramesFactory\n",
    "gcrf = FramesFactory.getGCRF()\n",
    "\n",
    "from org.orekit.utils import IERSConventions\n",
    "itrf = FramesFactory.getITRF(IERSConventions.IERS_2010, False)  # Taking tidal effects into account when interpolating EOP parameters\n",
    "\n",
    "from orekit.pyhelpers import datetime_to_absolutedate\n",
    "lift_off_frame = itrf.getFrozenFrame(gcrf, \n",
    "                                     datetime_to_absolutedate(launch_date), \n",
    "                                     \"Frame frozen at liftoff\")\n",
    "\n",
    "from org.orekit.models.earth import ReferenceEllipsoid\n",
    "wgs84_ellipsoid = ReferenceEllipsoid.getWgs84(itrf)\n",
    "\n",
    "from org.orekit.time import TimeScalesFactory\n",
    "utc = TimeScalesFactory.getUTC()"
   ]
  },
  {
   "cell_type": "markdown",
   "metadata": {},
   "source": [
    "Setting up initial orbit and propagator"
   ]
  },
  {
   "cell_type": "code",
   "execution_count": null,
   "metadata": {},
   "outputs": [],
   "source": [
    "from org.orekit.orbits import KeplerianOrbit\n",
    "from org.orekit.utils import Constants as orekit_constants\n",
    "separation_date = datetime_to_absolutedate(launch_date).shiftedBy(separation_time)\n",
    "\n",
    "from org.hipparchus.geometry.euclidean.threed import Vector3D\n",
    "from org.orekit.utils import PVCoordinates\n",
    "pv_init = PVCoordinates(Vector3D(pos_init), Vector3D(vel_init))\n",
    "\n",
    "from org.orekit.orbits import CartesianOrbit\n",
    "orbit = CartesianOrbit(pv_init, lift_off_frame, separation_date, orekit_constants.EIGEN5C_EARTH_MU)\n",
    "\n",
    "orbit_period = orbit.getKeplerianPeriod()\n",
    "duration = float(n_orbits*orbit_period)\n",
    "display(duration)\n",
    "\n",
    "from org.orekit.propagation.analytical import KeplerianPropagator\n",
    "propagator = KeplerianPropagator(orbit)"
   ]
  },
  {
   "cell_type": "markdown",
   "metadata": {},
   "source": [
    "Orekit can generate measurements for all types of measurements that are used for OD. Building the measurements builders:"
   ]
  },
  {
   "cell_type": "markdown",
   "metadata": {},
   "source": [
    "Creating the Orekit ground station objects from DataFrame data.\n",
    "\n",
    "Creating a measurement generator for each ground station and for each type of measurement"
   ]
  },
  {
   "cell_type": "code",
   "execution_count": null,
   "metadata": {},
   "outputs": [],
   "source": [
    "from org.orekit.bodies import GeodeticPoint\n",
    "from org.orekit.frames import TopocentricFrame\n",
    "from org.orekit.propagation.events import ElevationDetector\n",
    "from org.orekit.estimation.measurements import GroundStation\n",
    "from org.orekit.estimation.measurements.generation import PVBuilder, RangeBuilder, RangeRateBuilder, AngularAzElBuilder, EventBasedScheduler, SignSemantic, Generator, ContinuousScheduler\n",
    "from org.orekit.time import FixedStepSelector\n",
    "from org.hipparchus.random import JDKRandomGenerator, GaussianRandomGenerator, CorrelatedRandomVectorGenerator\n",
    "from org.hipparchus.linear import DiagonalMatrix\n",
    "from org.orekit.estimation.measurements import ObservableSatellite\n",
    "from org.orekit.propagation.events.handlers import ContinueOnEvent\n",
    "\n",
    "gaussian_random_generator = GaussianRandomGenerator(JDKRandomGenerator())\n",
    "\n",
    "# Noise generator for range\n",
    "noise_source_range = CorrelatedRandomVectorGenerator(\n",
    "    DiagonalMatrix([sigma_range**2]),\n",
    "    1e-6,  # \"small\" parameter\n",
    "    gaussian_random_generator\n",
    ")\n",
    "\n",
    "# Noise generator for range rate\n",
    "noise_source_range_rate = CorrelatedRandomVectorGenerator(\n",
    "    DiagonalMatrix([sigma_range_rate**2]),\n",
    "    1e-6,  # \"small\" parameter\n",
    "    gaussian_random_generator\n",
    ")\n",
    "\n",
    "# Noise generator for AZ/EL\n",
    "noise_source_az_el = CorrelatedRandomVectorGenerator(\n",
    "    DiagonalMatrix([sigma_az**2, sigma_el**2]),\n",
    "    1e-6,  # \"small\" parameter\n",
    "    gaussian_random_generator\n",
    ")\n",
    "\n",
    "# Noise generator for PV\n",
    "noise_source_pv = CorrelatedRandomVectorGenerator(\n",
    "    DiagonalMatrix([sigma_position**2, sigma_position**2, sigma_position**2, \n",
    "                    sigma_velocity**2, sigma_velocity**2, sigma_velocity**2]),\n",
    "    1e-6,  # \"small\" parameter\n",
    "    gaussian_random_generator\n",
    ")\n",
    "\n",
    "# Builder for PV measurements\n",
    "observable_satellite = ObservableSatellite(0)\n",
    "pv_builder = PVBuilder(noise_source_pv, \n",
    "                       sigma_position,\n",
    "                       sigma_velocity,\n",
    "                       1.0,  # Base weight\n",
    "                       observable_satellite)\n",
    "\n",
    "# Step selector for PV measurements\n",
    "step_selector_pv = FixedStepSelector(step_pv, utc)\n",
    "pv_scheduler = ContinuousScheduler(pv_builder, step_selector_pv)\n",
    "\n",
    "meas_generator = Generator()\n",
    "meas_generator.addPropagator(propagator)\n",
    "meas_generator.addScheduler(pv_scheduler)\n",
    "\n",
    "for gs_name, gs_data in ground_station_df.iterrows():\n",
    "    geodetic_point = GeodeticPoint(float(np.deg2rad(gs_data['latitude_deg'])),\n",
    "                                   float(np.deg2rad(gs_data['longitude_deg'])),\n",
    "                                   float(gs_data['altitude']))\n",
    "    topocentric_frame = TopocentricFrame(wgs84_ellipsoid, geodetic_point, gs_name)\n",
    "    ground_station_df.loc[gs_name, 'GroundStation'] = GroundStation(topocentric_frame)\n",
    "    \n",
    "    # Range builder\n",
    "    meas_generator.addScheduler(\n",
    "        EventBasedScheduler(\n",
    "            RangeBuilder(noise_source_range, \n",
    "                         GroundStation(topocentric_frame), \n",
    "                         True,  # two-way\n",
    "                         sigma_range, \n",
    "                         1.0,  # Base weight\n",
    "                         observable_satellite), \n",
    "            FixedStepSelector(step_ground_station_measurements, utc), \n",
    "            propagator, \n",
    "            ElevationDetector(topocentric_frame).withHandler(ContinueOnEvent()), \n",
    "            SignSemantic.FEASIBLE_MEASUREMENT_WHEN_POSITIVE)\n",
    "    )\n",
    "    \n",
    "    # Range rate builder\n",
    "    meas_generator.addScheduler(\n",
    "        EventBasedScheduler(\n",
    "            RangeRateBuilder(noise_source_range_rate,\n",
    "                             GroundStation(topocentric_frame), \n",
    "                             True,  # two-way\n",
    "                             sigma_range_rate, \n",
    "                             1.0,  # Base weight\n",
    "                             observable_satellite), \n",
    "            FixedStepSelector(step_ground_station_measurements, utc), \n",
    "            propagator, \n",
    "            ElevationDetector(topocentric_frame).withHandler(ContinueOnEvent()), \n",
    "            SignSemantic.FEASIBLE_MEASUREMENT_WHEN_POSITIVE)\n",
    "    )\n",
    "    \n",
    "    # Az/el builder\n",
    "    meas_generator.addScheduler(\n",
    "        EventBasedScheduler(\n",
    "            AngularAzElBuilder(noise_source_az_el, \n",
    "                               GroundStation(topocentric_frame),\n",
    "                               [sigma_az, sigma_el], \n",
    "                               [1.0, 1.0],  # Base weight\n",
    "                               observable_satellite), \n",
    "            FixedStepSelector(step_ground_station_measurements, utc), \n",
    "            propagator, \n",
    "            ElevationDetector(topocentric_frame).withHandler(ContinueOnEvent()), \n",
    "            SignSemantic.FEASIBLE_MEASUREMENT_WHEN_POSITIVE)\n",
    "    )"
   ]
  },
  {
   "cell_type": "code",
   "execution_count": null,
   "metadata": {},
   "outputs": [],
   "source": [
    "from orekit.pyhelpers import absolutedate_to_datetime\n",
    "date_start = separation_date\n",
    "date_end = date_start.shiftedBy(duration)\n",
    "date_current = date_start\n",
    "generated = meas_generator.generate(date_start, date_end)"
   ]
  },
  {
   "cell_type": "code",
   "execution_count": null,
   "metadata": {},
   "outputs": [],
   "source": [
    "from org.orekit.estimation.measurements import ObservedMeasurement, PV, Range, RangeRate, AngularAzEl\n",
    "pv_with_noise_df = pd.DataFrame(columns=['x', 'y', 'z', 'vx', 'vy', 'vz'])\n",
    "range_with_noise_df = pd.DataFrame(columns=['ground_station', 'range'])\n",
    "range_rate_with_noise_df = pd.DataFrame(columns=['ground_station', 'range_rate'])\n",
    "az_el_with_noise_df = pd.DataFrame(columns=['ground_station', 'az_deg', 'el_deg'])\n",
    "\n",
    "for meas in generated.toArray():\n",
    "    observed_meas = ObservedMeasurement.cast_(meas)\n",
    "    py_datetime = absolutedate_to_datetime(observed_meas.date)\n",
    "    \n",
    "    if PV.instance_(observed_meas):\n",
    "        observed_pv = PV.cast_(observed_meas)\n",
    "        pv_with_noise_df.loc[py_datetime] = np.array(observed_meas.getObservedValue())\n",
    "    elif Range.instance_(observed_meas):\n",
    "        observed_range = Range.cast_(observed_meas)\n",
    "        ground_station = observed_range.getStation()\n",
    "        range_with_noise_df.loc[py_datetime] = [ground_station.getBaseFrame().name, observed_range.getObservedValue()]\n",
    "    elif RangeRate.instance_(observed_meas):\n",
    "        observed_range_rate = RangeRate.cast_(observed_meas)\n",
    "        ground_station = observed_range_rate.getStation()\n",
    "        range_rate_with_noise_df.loc[py_datetime] = [ground_station.getBaseFrame().name, observed_range_rate.getObservedValue()]\n",
    "    elif AngularAzEl.instance_(observed_meas):\n",
    "        observed_az_el = AngularAzEl.cast_(observed_meas)\n",
    "        ground_station = observed_az_el.getStation()\n",
    "        az_el = np.array(observed_az_el.getObservedValue())\n",
    "        az_el_with_noise_df.loc[py_datetime] = np.concatenate(([ground_station.getBaseFrame().name], \n",
    "                                                                np.rad2deg(az_el)))"
   ]
  },
  {
   "cell_type": "markdown",
   "metadata": {},
   "source": [
    "Propagating the orbit again to plot the ground track"
   ]
  },
  {
   "cell_type": "code",
   "execution_count": null,
   "metadata": {},
   "outputs": [],
   "source": [
    "from org.orekit.propagation.sampling import PythonOrekitFixedStepHandler\n",
    "from orekit.pyhelpers import absolutedate_to_datetime\n",
    "from org.orekit.utils import IERSConventions\n",
    "from org.orekit.frames import FramesFactory\n",
    "from org.orekit.models.earth import ReferenceEllipsoid\n",
    "import numpy as np\n",
    "import pandas as pd\n",
    "\n",
    "class mystephandler(PythonOrekitFixedStepHandler):    \n",
    "    itrf = FramesFactory.getITRF(IERSConventions.IERS_2010, False)  # Taking tidal effects into account when interpolating EOP parameters\n",
    "    wgs84_ellipsoid = ReferenceEllipsoid.getWgs84(itrf)\n",
    "    lat_lon_df = pd.DataFrame(columns=['lat_deg', 'lon_deg'])\n",
    "    \n",
    "    def init(self, s0, t, step):\n",
    "        pass\n",
    "        \n",
    "    def handleStep(self, currentState, isLast):\n",
    "        geodetic_point = wgs84_ellipsoid.transform(currentState.getPVCoordinates(self.itrf).getPosition(),\n",
    "                                                   self.itrf,\n",
    "                                                   currentState.getDate())\n",
    "        self.lat_lon_df.loc[absolutedate_to_datetime(currentState.getDate())] = [np.rad2deg(geodetic_point.getLatitude()),\n",
    "                                                                                 np.rad2deg(geodetic_point.getLongitude())]\n",
    "        \n",
    "    def getLatLon(self):\n",
    "        return self.lat_lon_df\n",
    "    \n",
    "handler = mystephandler()\n",
    "propagator = KeplerianPropagator(orbit)\n",
    "propagator.setMasterMode(60.0, handler)\n",
    "finalState = propagator.propagate(date_end)\n",
    "lat_lon_df = handler.getLatLon()\n",
    "display(lat_lon_df)"
   ]
  },
  {
   "cell_type": "code",
   "execution_count": null,
   "metadata": {},
   "outputs": [],
   "source": [
    "import plotly.graph_objects as go\n",
    "\n",
    "fig = go.Figure(data=[\n",
    "    go.Scattergeo(\n",
    "        lon = lat_lon_df['lon_deg'],\n",
    "        lat = lat_lon_df['lat_deg'],\n",
    "        mode = 'markers',\n",
    "        name='Orbit'\n",
    "    ),\n",
    "    go.Scattergeo(\n",
    "        lon = ground_station_df['longitude_deg'],\n",
    "        lat = ground_station_df['latitude_deg'],\n",
    "        text = ground_station_df.index,\n",
    "        mode = 'markers',\n",
    "        name='Ground stations'\n",
    "    )\n",
    "])\n",
    "\n",
    "fig.update_layout(\n",
    "        #title = 'Most trafficked US airports<br>(Hover for airport names)',\n",
    "        #geo_scope='usa',\n",
    "    )\n",
    "fig.show()"
   ]
  },
  {
   "cell_type": "markdown",
   "metadata": {},
   "source": [
    "Finally, saving measurement data to CSV file"
   ]
  },
  {
   "cell_type": "code",
   "execution_count": null,
   "metadata": {},
   "outputs": [],
   "source": [
    "position_df.to_csv('pos_vel_data_gcrf_with_noise.csv')\n",
    "position_without_noise_df.to_csv('pos_vel_data_gcrf_without_noise.csv')"
   ]
  },
  {
   "cell_type": "code",
   "execution_count": null,
   "metadata": {},
   "outputs": [],
   "source": []
  }
 ],
 "metadata": {
  "kernelspec": {
   "display_name": "Python 3",
   "language": "python",
   "name": "python3"
  },
  "language_info": {
   "codemirror_mode": {
    "name": "ipython",
    "version": 3
   },
   "file_extension": ".py",
   "mimetype": "text/x-python",
   "name": "python",
   "nbconvert_exporter": "python",
   "pygments_lexer": "ipython3",
   "version": "3.7.6"
  }
 },
 "nbformat": 4,
 "nbformat_minor": 4
}
