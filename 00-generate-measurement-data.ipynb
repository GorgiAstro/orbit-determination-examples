{
 "cells": [
  {
   "cell_type": "markdown",
   "metadata": {},
   "source": [
    "This notebook generates measurement data with noise for orbit determination purposes, using a Keplerian propagator:\n",
    "\n",
    "* Position/Velocity\n",
    "* Range as seen from a list of ground stations\n",
    "* Range rate (doppler) as seen from a list of ground stations\n",
    "* Az/el as seen from a list of ground stations\n",
    "\n",
    "The list of (example, not real) ground stations is loaded from the CSV file `ground-stations.csv`"
   ]
  },
  {
   "cell_type": "markdown",
   "metadata": {},
   "source": [
    "Orbit parameters"
   ]
  },
  {
   "cell_type": "code",
   "execution_count": 1,
   "metadata": {},
   "outputs": [
    {
     "data": {
      "text/plain": [
       "9952.019565792982"
      ]
     },
     "metadata": {},
     "output_type": "display_data"
    }
   ],
   "source": [
    "import numpy as np\n",
    "import datetime\n",
    "orbit_epoch = datetime.datetime(2020, 1, 1)\n",
    "sma = 10000e3  # Semi-major axis in meters\n",
    "ecc = 0.2  # Eccentricity\n",
    "inc = float(np.deg2rad(60.0))  # Inclination in radians\n",
    "raan = 0.0  # Right-ascension of ascending node in radians\n",
    "aop = 0.0  # Argument of perigee in radians\n",
    "ta = 0.0  # Initial true anomaly in radians\n",
    "\n",
    "n_orbits = 1.0  # Number of orbits to generate\n",
    "\n",
    "orbit_period = 2*np.pi*np.sqrt(sma**3 / 3.98600e14)\n",
    "duration = float(n_orbits*orbit_period)\n",
    "display(duration)"
   ]
  },
  {
   "cell_type": "markdown",
   "metadata": {},
   "source": [
    "Measurement parameters. For each type of measurement, two files are generated, one with the perfect measurements, one with noise added.\n",
    "The noise for each type of measurement is modeled by a gaussian distribution with standard deviation $\\sigma$"
   ]
  },
  {
   "cell_type": "code",
   "execution_count": 2,
   "metadata": {},
   "outputs": [],
   "source": [
    "sigma_position = 100e3  # Position noise in meters\n",
    "sigma_velocity = 100.0  # Velocity noise in meters per second\n",
    "step_pv = 500.0  # Step time for output PV data\n",
    "\n",
    "sigma_range = 1e3  # Range noise in meters\n",
    "sigma_range_rate = 10e3  # Range rate noise in meters per second\n",
    "sigma_az = float(np.deg2rad(1.0))  # Azimuth noise in radians\n",
    "sigma_el = float(np.deg2rad(1.0))  # Elevation noise in radians\n",
    "step_ground_station_measurements = 30.0  # When a ground station is in view, take measurements every 30 seconds"
   ]
  },
  {
   "cell_type": "markdown",
   "metadata": {},
   "source": [
    "Loading the ground stations"
   ]
  },
  {
   "cell_type": "code",
   "execution_count": 3,
   "metadata": {},
   "outputs": [
    {
     "data": {
      "text/html": [
       "<div>\n",
       "<style scoped>\n",
       "    .dataframe tbody tr th:only-of-type {\n",
       "        vertical-align: middle;\n",
       "    }\n",
       "\n",
       "    .dataframe tbody tr th {\n",
       "        vertical-align: top;\n",
       "    }\n",
       "\n",
       "    .dataframe thead th {\n",
       "        text-align: right;\n",
       "    }\n",
       "</style>\n",
       "<table border=\"1\" class=\"dataframe\">\n",
       "  <thead>\n",
       "    <tr style=\"text-align: right;\">\n",
       "      <th></th>\n",
       "      <th>longitude_deg</th>\n",
       "      <th>latitude_deg</th>\n",
       "      <th>altitude</th>\n",
       "    </tr>\n",
       "    <tr>\n",
       "      <th>name</th>\n",
       "      <th></th>\n",
       "      <th></th>\n",
       "      <th></th>\n",
       "    </tr>\n",
       "  </thead>\n",
       "  <tbody>\n",
       "    <tr>\n",
       "      <th>Svalbard</th>\n",
       "      <td>15.0</td>\n",
       "      <td>78.0</td>\n",
       "      <td>0.0</td>\n",
       "    </tr>\n",
       "    <tr>\n",
       "      <th>Australia</th>\n",
       "      <td>117.0</td>\n",
       "      <td>-32.0</td>\n",
       "      <td>0.0</td>\n",
       "    </tr>\n",
       "    <tr>\n",
       "      <th>Argentina</th>\n",
       "      <td>-65.0</td>\n",
       "      <td>-35.0</td>\n",
       "      <td>0.0</td>\n",
       "    </tr>\n",
       "    <tr>\n",
       "      <th>Antarctica</th>\n",
       "      <td>-75.0</td>\n",
       "      <td>-73.0</td>\n",
       "      <td>0.0</td>\n",
       "    </tr>\n",
       "  </tbody>\n",
       "</table>\n",
       "</div>"
      ],
      "text/plain": [
       "            longitude_deg  latitude_deg  altitude\n",
       "name                                             \n",
       "Svalbard             15.0          78.0       0.0\n",
       "Australia           117.0         -32.0       0.0\n",
       "Argentina           -65.0         -35.0       0.0\n",
       "Antarctica          -75.0         -73.0       0.0"
      ]
     },
     "metadata": {},
     "output_type": "display_data"
    }
   ],
   "source": [
    "import pandas as pd\n",
    "ground_station_df = pd.read_csv('ground-stations.csv', index_col=0, )\n",
    "display(ground_station_df)"
   ]
  },
  {
   "cell_type": "markdown",
   "metadata": {},
   "source": [
    "Firing up a JVM for Orekit"
   ]
  },
  {
   "cell_type": "code",
   "execution_count": 4,
   "metadata": {},
   "outputs": [
    {
     "data": {
      "text/plain": [
       "<jcc.JCCEnv at 0x7f8b9f6f47b0>"
      ]
     },
     "execution_count": 4,
     "metadata": {},
     "output_type": "execute_result"
    }
   ],
   "source": [
    "import orekit\n",
    "orekit.initVM()"
   ]
  },
  {
   "cell_type": "markdown",
   "metadata": {},
   "source": [
    "Downloading and importing the Orekit data ZIP"
   ]
  },
  {
   "cell_type": "code",
   "execution_count": 5,
   "metadata": {},
   "outputs": [
    {
     "name": "stdout",
     "output_type": "stream",
     "text": [
      "Downloading file from: https://gitlab.orekit.org/orekit/orekit-data/-/archive/master/orekit-data-master.zip\n"
     ]
    }
   ],
   "source": [
    "from orekit.pyhelpers import download_orekit_data_curdir, setup_orekit_curdir\n",
    "download_orekit_data_curdir()\n",
    "setup_orekit_curdir()"
   ]
  },
  {
   "cell_type": "markdown",
   "metadata": {},
   "source": [
    "Setting up models (frames, timescales)"
   ]
  },
  {
   "cell_type": "code",
   "execution_count": 6,
   "metadata": {},
   "outputs": [],
   "source": [
    "from org.orekit.frames import FramesFactory\n",
    "gcrf = FramesFactory.getGCRF()\n",
    "\n",
    "from org.orekit.utils import IERSConventions\n",
    "itrf = FramesFactory.getITRF(IERSConventions.IERS_2010, False)  # Taking tidal effects into account when interpolating EOP parameters\n",
    "\n",
    "from org.orekit.models.earth import ReferenceEllipsoid\n",
    "wgs84_ellipsoid = ReferenceEllipsoid.getWgs84(itrf)\n",
    "\n",
    "from org.orekit.time import TimeScalesFactory\n",
    "utc = TimeScalesFactory.getUTC()"
   ]
  },
  {
   "cell_type": "markdown",
   "metadata": {},
   "source": [
    "Setting up initial orbit and propagator"
   ]
  },
  {
   "cell_type": "code",
   "execution_count": 7,
   "metadata": {},
   "outputs": [],
   "source": [
    "from org.orekit.orbits import KeplerianOrbit, PositionAngle\n",
    "from orekit.pyhelpers import datetime_to_absolutedate\n",
    "from org.orekit.utils import Constants as orekit_constants\n",
    "orbit = KeplerianOrbit(sma, ecc, inc, aop, raan, ta,\n",
    "                       PositionAngle.TRUE, \n",
    "                       gcrf,\n",
    "                       datetime_to_absolutedate(orbit_epoch),\n",
    "                       orekit_constants.EIGEN5C_EARTH_MU)\n",
    "\n",
    "from org.orekit.propagation.analytical import KeplerianPropagator\n",
    "propagator = KeplerianPropagator(orbit)"
   ]
  },
  {
   "cell_type": "markdown",
   "metadata": {},
   "source": [
    "Orekit can generate measurements for all types of measurements that are used for OD. Building the measurements builders:"
   ]
  },
  {
   "cell_type": "markdown",
   "metadata": {},
   "source": [
    "Creating the Orekit ground station objects from DataFrame data.\n",
    "\n",
    "Creating a measurement generator for each ground station and for each type of measurement"
   ]
  },
  {
   "cell_type": "code",
   "execution_count": 8,
   "metadata": {},
   "outputs": [],
   "source": [
    "from org.orekit.bodies import GeodeticPoint\n",
    "from org.orekit.frames import TopocentricFrame\n",
    "from org.orekit.propagation.events import ElevationDetector\n",
    "from org.orekit.estimation.measurements import GroundStation\n",
    "from org.orekit.estimation.measurements.generation import PVBuilder, RangeBuilder, RangeRateBuilder, AngularAzElBuilder, EventBasedScheduler, SignSemantic, Generator, ContinuousScheduler\n",
    "from org.orekit.time import FixedStepSelector\n",
    "from org.hipparchus.random import JDKRandomGenerator, GaussianRandomGenerator, CorrelatedRandomVectorGenerator\n",
    "from org.hipparchus.linear import DiagonalMatrix\n",
    "from org.orekit.estimation.measurements import ObservableSatellite\n",
    "gaussian_random_generator = GaussianRandomGenerator(JDKRandomGenerator())\n",
    "\n",
    "# Noise generator for range\n",
    "noise_source_range = CorrelatedRandomVectorGenerator(\n",
    "    DiagonalMatrix([sigma_range**2]),\n",
    "    1e-6,  # \"small\" parameter\n",
    "    gaussian_random_generator\n",
    ")\n",
    "\n",
    "# Noise generator for range rate\n",
    "noise_source_range_rate = CorrelatedRandomVectorGenerator(\n",
    "    DiagonalMatrix([sigma_range_rate**2]),\n",
    "    1e-6,  # \"small\" parameter\n",
    "    gaussian_random_generator\n",
    ")\n",
    "\n",
    "# Noise generator for AZ/EL\n",
    "noise_source_az_el = CorrelatedRandomVectorGenerator(\n",
    "    DiagonalMatrix([sigma_az**2, sigma_el**2]),\n",
    "    1e-6,  # \"small\" parameter\n",
    "    gaussian_random_generator\n",
    ")\n",
    "\n",
    "# Noise generator for PV\n",
    "noise_source_pv = CorrelatedRandomVectorGenerator(\n",
    "    DiagonalMatrix([sigma_position**2, sigma_position**2, sigma_position**2, \n",
    "                    sigma_velocity**2, sigma_velocity**2, sigma_velocity**2]),\n",
    "    1e-6,  # \"small\" parameter\n",
    "    gaussian_random_generator\n",
    ")\n",
    "\n",
    "# Builder for PV measurements\n",
    "observable_satellite = ObservableSatellite(0)\n",
    "pv_builder = PVBuilder(noise_source_pv, \n",
    "                       sigma_position,\n",
    "                       sigma_velocity,\n",
    "                       1.0,  # Base weight\n",
    "                       observable_satellite)\n",
    "\n",
    "# Step selectors for ground station measurements\n",
    "step_selector_range = FixedStepSelector(step_ground_station_measurements, utc)\n",
    "step_selector_range_rate = FixedStepSelector(step_ground_station_measurements, utc)\n",
    "step_selector_az_el = FixedStepSelector(step_ground_station_measurements, utc)\n",
    "\n",
    "# Step selector for PV measurements\n",
    "step_selector_pv = FixedStepSelector(step_pv, utc)\n",
    "pv_scheduler = ContinuousScheduler(pv_builder, step_selector_pv)\n",
    "\n",
    "meas_generator = Generator()\n",
    "meas_generator.addPropagator(propagator)\n",
    "meas_generator.addScheduler(pv_scheduler)\n",
    "\n",
    "for gs_name, gs_data in ground_station_df.iterrows():\n",
    "    geodetic_point = GeodeticPoint(float(np.deg2rad(gs_data['latitude_deg'])),\n",
    "                                   float(np.deg2rad(gs_data['longitude_deg'])),\n",
    "                                   float(gs_data['altitude']))\n",
    "    topocentric_frame = TopocentricFrame(wgs84_ellipsoid, geodetic_point, gs_name)\n",
    "    elevation_detector = ElevationDetector(topocentric_frame)\n",
    "    #ground_station_df.loc[gs_name, 'ElevationDetector'] = elevation_detector \n",
    "    ground_station = GroundStation(topocentric_frame)\n",
    "    ground_station_df.loc[gs_name, 'GroundStation'] = ground_station\n",
    "    \n",
    "    # Range builder\n",
    "    range_builder = RangeBuilder(noise_source_range, \n",
    "                                 ground_station, \n",
    "                                 True,  # two-way\n",
    "                                 sigma_range, \n",
    "                                 1.0,  # Base weight\n",
    "                                 observable_satellite)\n",
    "    #ground_station_df.loc[gs_name, 'RangeBuilder'] = range_builder\n",
    "    range_scheduler = EventBasedScheduler(range_builder, \n",
    "                                          step_selector_range, \n",
    "                                          propagator, \n",
    "                                          elevation_detector, \n",
    "                                          SignSemantic.FEASIBLE_MEASUREMENT_WHEN_POSITIVE)\n",
    "    meas_generator.addScheduler(range_scheduler)\n",
    "    \n",
    "    # Range rate builder\n",
    "    range_rate_builder = RangeRateBuilder(noise_source_range_rate, \n",
    "                                          ground_station, \n",
    "                                          True,  # two-way\n",
    "                                          sigma_range_rate, \n",
    "                                          1.0,  # Base weight\n",
    "                                          observable_satellite)\n",
    "    #ground_station_df.loc[gs_name, 'RangeRateBuilder'] = range_rate_builder\n",
    "    range_rate_scheduler = EventBasedScheduler(range_rate_builder, \n",
    "                                               step_selector_range_rate, \n",
    "                                               propagator, \n",
    "                                               elevation_detector, \n",
    "                                               SignSemantic.FEASIBLE_MEASUREMENT_WHEN_POSITIVE)\n",
    "    meas_generator.addScheduler(range_rate_scheduler)\n",
    "    \n",
    "    # Az/el builder\n",
    "    az_el_builder = AngularAzElBuilder(noise_source_az_el, \n",
    "                                       ground_station,\n",
    "                                       [sigma_az, sigma_el], \n",
    "                                       [1.0, 1.0],  # Base weight\n",
    "                                       observable_satellite)\n",
    "    #ground_station_df.loc[gs_name, 'AngularAzElBuilder'] = az_el_builder\n",
    "    az_el_scheduler = EventBasedScheduler(az_el_builder, \n",
    "                                          step_selector_az_el, \n",
    "                                          propagator, \n",
    "                                          elevation_detector, \n",
    "                                          SignSemantic.FEASIBLE_MEASUREMENT_WHEN_POSITIVE)\n",
    "    meas_generator.addScheduler(az_el_scheduler)"
   ]
  },
  {
   "cell_type": "code",
   "execution_count": 9,
   "metadata": {},
   "outputs": [],
   "source": [
    "from orekit.pyhelpers import absolutedate_to_datetime\n",
    "date_start = datetime_to_absolutedate(orbit_epoch)\n",
    "date_end = date_start.shiftedBy(duration)\n",
    "date_current = date_start\n",
    "generated = meas_generator.generate(date_start, date_end)"
   ]
  },
  {
   "cell_type": "code",
   "execution_count": 14,
   "metadata": {},
   "outputs": [
    {
     "data": {
      "text/html": [
       "<div>\n",
       "<style scoped>\n",
       "    .dataframe tbody tr th:only-of-type {\n",
       "        vertical-align: middle;\n",
       "    }\n",
       "\n",
       "    .dataframe tbody tr th {\n",
       "        vertical-align: top;\n",
       "    }\n",
       "\n",
       "    .dataframe thead th {\n",
       "        text-align: right;\n",
       "    }\n",
       "</style>\n",
       "<table border=\"1\" class=\"dataframe\">\n",
       "  <thead>\n",
       "    <tr style=\"text-align: right;\">\n",
       "      <th></th>\n",
       "      <th>GroundStation</th>\n",
       "      <th>az_deg</th>\n",
       "      <th>el_deg</th>\n",
       "    </tr>\n",
       "  </thead>\n",
       "  <tbody>\n",
       "    <tr>\n",
       "      <th>2020-01-01 00:18:30</th>\n",
       "      <td>Svalbard</td>\n",
       "      <td>-86.69194638052997</td>\n",
       "      <td>1.1464687701674587</td>\n",
       "    </tr>\n",
       "    <tr>\n",
       "      <th>2020-01-01 00:19:00</th>\n",
       "      <td>Svalbard</td>\n",
       "      <td>-86.65159812004688</td>\n",
       "      <td>2.4200843292265573</td>\n",
       "    </tr>\n",
       "    <tr>\n",
       "      <th>2020-01-01 00:19:30</th>\n",
       "      <td>Svalbard</td>\n",
       "      <td>-88.01610636972592</td>\n",
       "      <td>5.596138330741703</td>\n",
       "    </tr>\n",
       "    <tr>\n",
       "      <th>2020-01-01 00:20:00</th>\n",
       "      <td>Svalbard</td>\n",
       "      <td>-89.88555920477047</td>\n",
       "      <td>5.800636611104817</td>\n",
       "    </tr>\n",
       "    <tr>\n",
       "      <th>2020-01-01 00:20:30</th>\n",
       "      <td>Svalbard</td>\n",
       "      <td>-90.14927835888594</td>\n",
       "      <td>5.631304435432498</td>\n",
       "    </tr>\n",
       "    <tr>\n",
       "      <th>...</th>\n",
       "      <td>...</td>\n",
       "      <td>...</td>\n",
       "      <td>...</td>\n",
       "    </tr>\n",
       "    <tr>\n",
       "      <th>2020-01-01 01:02:30</th>\n",
       "      <td>Svalbard</td>\n",
       "      <td>142.09537868244212</td>\n",
       "      <td>3.3494029772874483</td>\n",
       "    </tr>\n",
       "    <tr>\n",
       "      <th>2020-01-01 01:03:00</th>\n",
       "      <td>Svalbard</td>\n",
       "      <td>141.84395798995723</td>\n",
       "      <td>1.996042150264656</td>\n",
       "    </tr>\n",
       "    <tr>\n",
       "      <th>2020-01-01 01:03:30</th>\n",
       "      <td>Svalbard</td>\n",
       "      <td>143.58466225811958</td>\n",
       "      <td>0.8205902855086317</td>\n",
       "    </tr>\n",
       "    <tr>\n",
       "      <th>2020-01-01 01:04:00</th>\n",
       "      <td>Svalbard</td>\n",
       "      <td>142.2854986411128</td>\n",
       "      <td>-0.07412432678360537</td>\n",
       "    </tr>\n",
       "    <tr>\n",
       "      <th>2020-01-01 01:04:30</th>\n",
       "      <td>Svalbard</td>\n",
       "      <td>142.3245911438858</td>\n",
       "      <td>1.3037124081063487</td>\n",
       "    </tr>\n",
       "  </tbody>\n",
       "</table>\n",
       "<p>93 rows × 3 columns</p>\n",
       "</div>"
      ],
      "text/plain": [
       "                    GroundStation              az_deg                el_deg\n",
       "2020-01-01 00:18:30      Svalbard  -86.69194638052997    1.1464687701674587\n",
       "2020-01-01 00:19:00      Svalbard  -86.65159812004688    2.4200843292265573\n",
       "2020-01-01 00:19:30      Svalbard  -88.01610636972592     5.596138330741703\n",
       "2020-01-01 00:20:00      Svalbard  -89.88555920477047     5.800636611104817\n",
       "2020-01-01 00:20:30      Svalbard  -90.14927835888594     5.631304435432498\n",
       "...                           ...                 ...                   ...\n",
       "2020-01-01 01:02:30      Svalbard  142.09537868244212    3.3494029772874483\n",
       "2020-01-01 01:03:00      Svalbard  141.84395798995723     1.996042150264656\n",
       "2020-01-01 01:03:30      Svalbard  143.58466225811958    0.8205902855086317\n",
       "2020-01-01 01:04:00      Svalbard   142.2854986411128  -0.07412432678360537\n",
       "2020-01-01 01:04:30      Svalbard   142.3245911438858    1.3037124081063487\n",
       "\n",
       "[93 rows x 3 columns]"
      ]
     },
     "execution_count": 14,
     "metadata": {},
     "output_type": "execute_result"
    }
   ],
   "source": [
    "az_el_with_noise_df"
   ]
  },
  {
   "cell_type": "code",
   "execution_count": 10,
   "metadata": {},
   "outputs": [],
   "source": [
    "from org.orekit.estimation.measurements import ObservedMeasurement, PV, Range, RangeRate, AngularAzEl\n",
    "pv_with_noise_df = pd.DataFrame(columns=['x', 'y', 'z', 'vx', 'vy', 'vz'])\n",
    "range_with_noise_df = pd.DataFrame(columns=['ground_station', 'range'])\n",
    "range_rate_with_noise_df = pd.DataFrame(columns=['ground_station', 'range_rate'])\n",
    "az_el_with_noise_df = pd.DataFrame(columns=['ground_station', 'az_deg', 'el_deg'])\n",
    "\n",
    "for meas in generated.toArray():\n",
    "    observed_meas = ObservedMeasurement.cast_(meas)\n",
    "    py_datetime = absolutedate_to_datetime(observed_meas.date)\n",
    "    \n",
    "    if PV.instance_(observed_meas):\n",
    "        observed_pv = PV.cast_(observed_meas)\n",
    "        pv_with_noise_df.loc[py_datetime] = np.array(observed_meas.getObservedValue())\n",
    "    elif Range.instance_(observed_meas):\n",
    "        observed_range = Range.cast_(observed_meas)\n",
    "        ground_station = observed_range.getStation()\n",
    "        range_with_noise_df.loc[py_datetime] = [ground_station.getBaseFrame().name, observed_range.getObservedValue()]\n",
    "    elif RangeRate.instance_(observed_meas):\n",
    "        observed_range_rate = RangeRate.cast_(observed_meas)\n",
    "        ground_station = observed_range_rate.getStation()\n",
    "        range_rate_with_noise_df.loc[py_datetime] = [ground_station.getBaseFrame().name, observed_range_rate.getObservedValue()]\n",
    "    elif AngularAzEl.instance_(observed_meas):\n",
    "        observed_az_el = AngularAzEl.cast_(observed_meas)\n",
    "        ground_station = observed_az_el.getStation()\n",
    "        az_el = np.array(observed_az_el.getObservedValue())\n",
    "        az_el_with_noise_df.loc[py_datetime] = np.concatenate(([ground_station.getBaseFrame().name], \n",
    "                                                                np.rad2deg(az_el)))"
   ]
  },
  {
   "cell_type": "markdown",
   "metadata": {},
   "source": [
    "Finally, saving measurement data to CSV file"
   ]
  },
  {
   "cell_type": "code",
   "execution_count": null,
   "metadata": {},
   "outputs": [],
   "source": [
    "position_df.to_csv('pos_vel_data_gcrf_with_noise.csv')\n",
    "position_without_noise_df.to_csv('pos_vel_data_gcrf_without_noise.csv')"
   ]
  },
  {
   "cell_type": "code",
   "execution_count": null,
   "metadata": {},
   "outputs": [],
   "source": []
  }
 ],
 "metadata": {
  "kernelspec": {
   "display_name": "Python 3",
   "language": "python",
   "name": "python3"
  },
  "language_info": {
   "codemirror_mode": {
    "name": "ipython",
    "version": 3
   },
   "file_extension": ".py",
   "mimetype": "text/x-python",
   "name": "python",
   "nbconvert_exporter": "python",
   "pygments_lexer": "ipython3",
   "version": "3.7.6"
  }
 },
 "nbformat": 4,
 "nbformat_minor": 4
}
